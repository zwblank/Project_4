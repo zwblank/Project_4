{
 "cells": [
  {
   "cell_type": "code",
   "execution_count": null,
   "metadata": {},
   "outputs": [],
   "source": [
    "# import libraries\n",
    "import pandas as pd\n",
    "import warnings\n",
    "\n",
    "from sklearn.preprocessing import LabelEncoder\n",
    "from sklearn.ensemble import RandomForestRegressor\n",
    "from sklearn.ensemble import RandomForestRegressor\n",
    "from sklearn.model_selection import train_test_split\n",
    "\n",
    "from sqlalchemy.ext.automap import automap_base\n",
    "from sqlalchemy import create_engine #, func\n",
    "from sqlalchemy.orm import Session\n",
    "from sqlalchemy import text\n",
    "\n",
    "from sklearn.metrics import mean_squared_error, r2_score\n",
    "\n",
    "warnings.filterwarnings('ignore')\n",
    "\n",
    "from xgboost import XGBRegressor\n",
    "import matplotlib.pyplot as plt\n",
    "import seaborn as sns\n",
    "import sklearn.datasets\n",
    "from sklearn import metrics"
   ]
  },
  {
   "cell_type": "code",
   "execution_count": null,
   "metadata": {},
   "outputs": [],
   "source": [
    "#Read data and create dataframe\n",
    "\n",
    "#filtered_df = pd.read_csv(\"Resources/filtered_df.csv\")\n",
    "#filtered_df\n",
    "\n",
    "# Create a SQLite database engine\n",
    "#engine = create_engine('sqlite:///filtered_df.sqlite')\n",
    "\n",
    "# reflect an existing database into a new model\n",
    "##Base=automap_base()\n",
    "\n",
    "# reflect the tables\n",
    "#Base.prepare(autoload_with=engine)\n",
    "\n",
    "# Write DataFrame to SQLite database\n",
    "#filtered_df.to_sql('realtor_filtered', con=engine, if_exists='replace', index=False)\n",
    "\n",
    "# Confirm the data has been written by querying the database\n",
    "#query = \"SELECT * FROM realtor_filtered;\"  # Example query\n",
    "#with engine.connect() as conn:\n",
    "    #result = conn.execute(text(query))"
   ]
  },
  {
   "cell_type": "code",
   "execution_count": null,
   "metadata": {},
   "outputs": [],
   "source": [
    "#df = result\n",
    "#df = pd.DataFrame(df)\n",
    "#df"
   ]
  },
  {
   "cell_type": "code",
   "execution_count": null,
   "metadata": {},
   "outputs": [],
   "source": [
    "df = pd.read_csv('drive/My Drive/clean_realestate_data.csv')"
   ]
  },
  {
   "cell_type": "code",
   "execution_count": null,
   "metadata": {},
   "outputs": [],
   "source": [
    "# reorder the columns\n",
    "df = df[['bed', 'bath', 'acre_lot','zip_code','house_size', 'price']]\n",
    "df"
   ]
  },
  {
   "cell_type": "code",
   "execution_count": null,
   "metadata": {},
   "outputs": [],
   "source": [
    "# Set the features and the target\n",
    "X = df.iloc[:,0:5]\n",
    "y = df.iloc[:,5]"
   ]
  },
  {
   "cell_type": "code",
   "execution_count": null,
   "metadata": {},
   "outputs": [],
   "source": [
    "# split the data into training and testing sets\n",
    "X_train, X_test, y_train, y_test = train_test_split(X, y, test_size=0.1, random_state=42)"
   ]
  },
  {
   "cell_type": "code",
   "execution_count": null,
   "metadata": {},
   "outputs": [],
   "source": [
    "# define the model and its parameters\n",
    "model = XGBRegressor(n_estimators=3000, max_depth=7, eta=0.05, subsample=1, colsample_bytree=1)"
   ]
  },
  {
   "cell_type": "code",
   "execution_count": null,
   "metadata": {},
   "outputs": [],
   "source": [
    "# fit the model\n",
    "model.fit(X_train, y_train)"
   ]
  },
  {
   "cell_type": "code",
   "execution_count": null,
   "metadata": {},
   "outputs": [],
   "source": [
    "# make predictions\n",
    "training_data_prediction = model.predict(X_train)\n",
    "print(training_data_prediction)\n",
    "\n",
    "testing_data_prediction = model.predict(X_test)"
   ]
  },
  {
   "cell_type": "code",
   "execution_count": null,
   "metadata": {},
   "outputs": [],
   "source": [
    "# Evaluate the model\n",
    "\n",
    "# R Squared Error\n",
    "r2_train = metrics.r2_score(y_train, training_data_prediction)\n",
    "\n",
    "# Mean Absolute Error\n",
    "mae_train = metrics.mean_absolute_error(y_train, training_data_prediction)\n",
    "\n",
    "print('R Squared Error:', r2_train)\n",
    "print('Mean Absolute Error:', mae_train)\n",
    "\n",
    "# R Squared Error\n",
    "r2_test = metrics.r2_score(y_test, testing_data_prediction)\n",
    "\n",
    "# Mean Absolute Error\n",
    "mae_test = metrics.mean_absolute_error(y_test, testing_data_prediction)\n",
    "\n",
    "print('R Squared Error:', r2_test)\n",
    "print('Mean Absolute Error:', mae_test)"
   ]
  },
  {
   "cell_type": "code",
   "execution_count": null,
   "metadata": {},
   "outputs": [],
   "source": [
    "plt.scatter(y_train, training_data_prediction)\n",
    "plt.xlabel(\"Actual Price\")\n",
    "plt.ylabel(\"Predicted Price\")\n",
    "plt.title(\"Actual Price vs Predicted Price\")\n",
    "plt.show()"
   ]
  }
 ],
 "metadata": {
  "kernelspec": {
   "display_name": "base",
   "language": "python",
   "name": "python3"
  },
  "language_info": {
   "name": "python",
   "version": "3.11.5"
  }
 },
 "nbformat": 4,
 "nbformat_minor": 2
}
